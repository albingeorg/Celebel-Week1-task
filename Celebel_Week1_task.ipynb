{
 "cells": [
  {
   "cell_type": "markdown",
   "metadata": {},
   "source": [
    "# Celebel Technology Task - 1 (Data Engineering001)"
   ]
  },
  {
   "cell_type": "code",
   "execution_count": 1,
   "metadata": {},
   "outputs": [
    {
     "name": "stdout",
     "output_type": "stream",
     "text": [
      "Odd Number\n"
     ]
    }
   ],
   "source": [
    "#py-if-else task: Uses conditional statements (if-elif-else) to make decisions based on input values.\n",
    "\n",
    "n = int(input())\n",
    "if n % 2 != 0:\n",
    "    print(\"Odd Number\")\n",
    "else:\n",
    "    print(\"Even Number\")"
   ]
  },
  {
   "cell_type": "code",
   "execution_count": 2,
   "metadata": {},
   "outputs": [
    {
     "name": "stdout",
     "output_type": "stream",
     "text": [
      "14\n",
      "-6\n",
      "40\n"
     ]
    }
   ],
   "source": [
    "#python-arithmetic-operators: Involves performing basic mathematical operations like addition, subtraction, multiplication, and division. \n",
    "a = int(input())\n",
    "b = int(input())\n",
    "print(a + b)\n",
    "print(a - b)\n",
    "print(a * b)"
   ]
  },
  {
   "cell_type": "code",
   "execution_count": 3,
   "metadata": {},
   "outputs": [
    {
     "name": "stdout",
     "output_type": "stream",
     "text": [
      "(3, 'hello')\n"
     ]
    }
   ],
   "source": [
    "#compress-the-string: Compresses a string by counting consecutive characters, often using itertools.groupby().\n",
    "from itertools import groupby\n",
    "s = input().split()\n",
    "print(*[(len(list(g)), k) for k, g in groupby(s)])\n"
   ]
  },
  {
   "cell_type": "code",
   "execution_count": 4,
   "metadata": {},
   "outputs": [
    {
     "name": "stdout",
     "output_type": "stream",
     "text": [
      "Player2 16\n"
     ]
    }
   ],
   "source": [
    "#the-minion-game: A string game where players earn points by forming substrings starting with vowels or consonants.\n",
    "def minion_game(string):\n",
    "    vowels = \"AEIOU\"\n",
    "    n = len(string)\n",
    "    player1 = 0\n",
    "    player2 = 0\n",
    "\n",
    "    for i in range(n):\n",
    "        if string[i] in vowels:\n",
    "            player1 += n - i\n",
    "        else:\n",
    "            player2 += n - i\n",
    "\n",
    "    if player1 > player2:\n",
    "        print(\"Player1\", player1)\n",
    "    elif player1 < player2:\n",
    "        print(\"Player2\", player2)\n",
    "    else:\n",
    "        print(\"Draw\")\n",
    "\n",
    "s = input().strip().upper()\n",
    "minion_game(s)\n"
   ]
  },
  {
   "cell_type": "code",
   "execution_count": 10,
   "metadata": {},
   "outputs": [
    {
     "name": "stdout",
     "output_type": "stream",
     "text": [
      "Not a Leap year\n"
     ]
    }
   ],
   "source": [
    "#write-a-function: Teaches how to define reusable blocks of code using the def keyword. \n",
    "def is_leap(year):\n",
    "    return (year % 4 == 0 and year % 100 != 0) or (year % 400 == 0)\n",
    "\n",
    "year = int(input())\n",
    "if(is_leap(year)):\n",
    "    print(\"Leap Year\")\n",
    "else :\n",
    "    print(\"Not a Leap year\")"
   ]
  },
  {
   "cell_type": "code",
   "execution_count": 12,
   "metadata": {},
   "outputs": [
    {
     "name": "stdout",
     "output_type": "stream",
     "text": [
      "1\n",
      "Albin: 4\n"
     ]
    }
   ],
   "source": [
    "#word-order: Counts and displays the number of occurrences of each word while preserving their input order.\n",
    "from collections import OrderedDict\n",
    "\n",
    "n = int(input())\n",
    "word_count = OrderedDict()\n",
    "\n",
    "for _ in range(n):\n",
    "    word = input()\n",
    "    word_count[word] = word_count.get(word, 0) + 1\n",
    "\n",
    "print(len(word_count))\n",
    "for word, count in word_count.items():\n",
    "    print(f\"{word}: {count}\")\n"
   ]
  },
  {
   "cell_type": "code",
   "execution_count": 12,
   "metadata": {},
   "outputs": [
    {
     "name": "stdout",
     "output_type": "stream",
     "text": [
      "0.833\n"
     ]
    }
   ],
   "source": [
    "#iterables-and-iterators: Works with iterators and combinations to solve problems involving sequences and probabilities.\n",
    "\n",
    "#calculates the probability that at least one 'a' appears in a randomly selected combination of letters.\n",
    "from itertools import combinations\n",
    "\n",
    "n = int(input())\n",
    "letters = input().split()\n",
    "k = int(input())\n",
    "\n",
    "combs = list(combinations(letters, k))\n",
    "a_count = sum(1 for c in combs if 'a' in c)\n",
    "print(\"{:.3f}\".format(a_count / len(combs)))\n"
   ]
  },
  {
   "cell_type": "code",
   "execution_count": 9,
   "metadata": {},
   "outputs": [
    {
     "name": "stdout",
     "output_type": "stream",
     "text": [
      "-6644214454873602895\n"
     ]
    }
   ],
   "source": [
    "#python-tuples: Introduces immutable sequences and their use in operations like hashing.\n",
    "n = int(input())\n",
    "integer_list = map(int, input().split())\n",
    "print(hash(tuple(integer_list)))"
   ]
  },
  {
   "cell_type": "code",
   "execution_count": 10,
   "metadata": {},
   "outputs": [
    {
     "name": "stdout",
     "output_type": "stream",
     "text": [
      "85.00\n"
     ]
    }
   ],
   "source": [
    "#finding-the-percentage: Calculates and formats the average marks of a student from a given dataset.\n",
    "\n",
    "# I have give a random data set\n",
    "n = 3\n",
    "data = [\n",
    "    [\"Alice\", 85, 90, 80],\n",
    "    [\"Bob\", 70, 75, 65],\n",
    "    [\"Charlie\", 95, 100, 90]\n",
    "]\n",
    "\n",
    "student_marks = {}\n",
    "for entry in data:\n",
    "    name, *scores = entry\n",
    "    student_marks[name] = scores\n",
    "\n",
    "query_name = input(\"Enter student name: \").strip()\n",
    "\n",
    "average = sum(student_marks[query_name]) / len(student_marks[query_name])\n",
    "print(\"{:.2f}\".format(average))\n"
   ]
  },
  {
   "cell_type": "code",
   "execution_count": 11,
   "metadata": {},
   "outputs": [
    {
     "name": "stdout",
     "output_type": "stream",
     "text": [
      "  1   1   1   1\n",
      "  2   2   2  10\n",
      "  3   3   3  11\n",
      "  4   4   4 100\n",
      "  5   5   5 101\n",
      "  6   6   6 110\n"
     ]
    }
   ],
   "source": [
    "# python-string-formatting: Demonstrates ways to format and align strings and numbers for clean output.\n",
    "def print_formatted(number):\n",
    "    width = len(bin(number)) - 2\n",
    "    for i in range(1, number + 1):\n",
    "        print(f\"{i:>{width}} {oct(i)[2:]:>{width}} {hex(i)[2:].upper():>{width}} {bin(i)[2:]:>{width}}\")\n",
    "\n",
    "n = int(input())\n",
    "print_formatted(n)"
   ]
  }
 ],
 "metadata": {
  "kernelspec": {
   "display_name": "Python 3",
   "language": "python",
   "name": "python3"
  },
  "language_info": {
   "codemirror_mode": {
    "name": "ipython",
    "version": 3
   },
   "file_extension": ".py",
   "mimetype": "text/x-python",
   "name": "python",
   "nbconvert_exporter": "python",
   "pygments_lexer": "ipython3",
   "version": "3.10.7"
  }
 },
 "nbformat": 4,
 "nbformat_minor": 2
}
